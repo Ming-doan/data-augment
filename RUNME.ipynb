{
 "cells": [
  {
   "cell_type": "markdown",
   "metadata": {},
   "source": [
    "# Data Transformation\n",
    "> **One-click image transformations**"
   ]
  },
  {
   "cell_type": "code",
   "execution_count": 1,
   "metadata": {},
   "outputs": [
    {
     "ename": "ImportError",
     "evalue": "cannot import name 'MotionBlur' from 'logic' (d:\\Race 2023\\drabridge\\logic\\__init__.py)",
     "output_type": "error",
     "traceback": [
      "\u001b[1;31m---------------------------------------------------------------------------\u001b[0m",
      "\u001b[1;31mImportError\u001b[0m                               Traceback (most recent call last)",
      "\u001b[1;32md:\\Race 2023\\drabridge\\RUNME.ipynb Cell 2\u001b[0m line \u001b[0;36m1\n\u001b[1;32m----> <a href='vscode-notebook-cell:/d%3A/Race%202023/drabridge/RUNME.ipynb#X63sZmlsZQ%3D%3D?line=0'>1</a>\u001b[0m \u001b[39mfrom\u001b[39;00m \u001b[39mlogic\u001b[39;00m \u001b[39mimport\u001b[39;00m (\n\u001b[0;32m      <a href='vscode-notebook-cell:/d%3A/Race%202023/drabridge/RUNME.ipynb#X63sZmlsZQ%3D%3D?line=1'>2</a>\u001b[0m     Original,\n\u001b[0;32m      <a href='vscode-notebook-cell:/d%3A/Race%202023/drabridge/RUNME.ipynb#X63sZmlsZQ%3D%3D?line=2'>3</a>\u001b[0m     Translate,\n\u001b[0;32m      <a href='vscode-notebook-cell:/d%3A/Race%202023/drabridge/RUNME.ipynb#X63sZmlsZQ%3D%3D?line=3'>4</a>\u001b[0m     Brightness,\n\u001b[0;32m      <a href='vscode-notebook-cell:/d%3A/Race%202023/drabridge/RUNME.ipynb#X63sZmlsZQ%3D%3D?line=4'>5</a>\u001b[0m     GaussianNoise,\n\u001b[0;32m      <a href='vscode-notebook-cell:/d%3A/Race%202023/drabridge/RUNME.ipynb#X63sZmlsZQ%3D%3D?line=5'>6</a>\u001b[0m     SaltAndPepperNoise,\n\u001b[0;32m      <a href='vscode-notebook-cell:/d%3A/Race%202023/drabridge/RUNME.ipynb#X63sZmlsZQ%3D%3D?line=6'>7</a>\u001b[0m     SigmoidContrast,\n\u001b[0;32m      <a href='vscode-notebook-cell:/d%3A/Race%202023/drabridge/RUNME.ipynb#X63sZmlsZQ%3D%3D?line=7'>8</a>\u001b[0m     GammarContrast,\n\u001b[0;32m      <a href='vscode-notebook-cell:/d%3A/Race%202023/drabridge/RUNME.ipynb#X63sZmlsZQ%3D%3D?line=8'>9</a>\u001b[0m     HistogramContrast,\n\u001b[0;32m     <a href='vscode-notebook-cell:/d%3A/Race%202023/drabridge/RUNME.ipynb#X63sZmlsZQ%3D%3D?line=9'>10</a>\u001b[0m     CLAHEContrast,\n\u001b[0;32m     <a href='vscode-notebook-cell:/d%3A/Race%202023/drabridge/RUNME.ipynb#X63sZmlsZQ%3D%3D?line=10'>11</a>\u001b[0m     GaussianBlur,\n\u001b[0;32m     <a href='vscode-notebook-cell:/d%3A/Race%202023/drabridge/RUNME.ipynb#X63sZmlsZQ%3D%3D?line=11'>12</a>\u001b[0m     MedianBlur,\n\u001b[0;32m     <a href='vscode-notebook-cell:/d%3A/Race%202023/drabridge/RUNME.ipynb#X63sZmlsZQ%3D%3D?line=12'>13</a>\u001b[0m     MotionBlur,\n\u001b[0;32m     <a href='vscode-notebook-cell:/d%3A/Race%202023/drabridge/RUNME.ipynb#X63sZmlsZQ%3D%3D?line=13'>14</a>\u001b[0m     CutOut,\n\u001b[0;32m     <a href='vscode-notebook-cell:/d%3A/Race%202023/drabridge/RUNME.ipynb#X63sZmlsZQ%3D%3D?line=14'>15</a>\u001b[0m     Rotation,\n\u001b[0;32m     <a href='vscode-notebook-cell:/d%3A/Race%202023/drabridge/RUNME.ipynb#X63sZmlsZQ%3D%3D?line=15'>16</a>\u001b[0m     Squeeze,\n\u001b[0;32m     <a href='vscode-notebook-cell:/d%3A/Race%202023/drabridge/RUNME.ipynb#X63sZmlsZQ%3D%3D?line=16'>17</a>\u001b[0m     HideAndSeek,\n\u001b[0;32m     <a href='vscode-notebook-cell:/d%3A/Race%202023/drabridge/RUNME.ipynb#X63sZmlsZQ%3D%3D?line=17'>18</a>\u001b[0m     GridMask,\n\u001b[0;32m     <a href='vscode-notebook-cell:/d%3A/Race%202023/drabridge/RUNME.ipynb#X63sZmlsZQ%3D%3D?line=18'>19</a>\u001b[0m     Pipe,\n\u001b[0;32m     <a href='vscode-notebook-cell:/d%3A/Race%202023/drabridge/RUNME.ipynb#X63sZmlsZQ%3D%3D?line=19'>20</a>\u001b[0m     signature_checker\n\u001b[0;32m     <a href='vscode-notebook-cell:/d%3A/Race%202023/drabridge/RUNME.ipynb#X63sZmlsZQ%3D%3D?line=20'>21</a>\u001b[0m )\n",
      "\u001b[1;31mImportError\u001b[0m: cannot import name 'MotionBlur' from 'logic' (d:\\Race 2023\\drabridge\\logic\\__init__.py)"
     ]
    }
   ],
   "source": [
    "from logic import (\n",
    "    Original,\n",
    "    Translate,\n",
    "    Brightness,\n",
    "    GaussianNoise,\n",
    "    SaltAndPepperNoise,\n",
    "    SigmoidContrast,\n",
    "    GammarContrast,\n",
    "    HistogramContrast,\n",
    "    CLAHEContrast,\n",
    "    GaussianBlur,\n",
    "    MedianBlur,\n",
    "    CutOut,\n",
    "    Rotation,\n",
    "    Squeeze,\n",
    "    HideAndSeek,\n",
    "    GridMask,\n",
    "    Pipe,\n",
    "    signature_checker\n",
    ")"
   ]
  },
  {
   "cell_type": "code",
   "execution_count": null,
   "metadata": {},
   "outputs": [],
   "source": [
    "###\n",
    "### Your Signature\n",
    "###\n",
    "SIGNATURE = 'Test'\n",
    "signature_checker(SIGNATURE)"
   ]
  },
  {
   "cell_type": "code",
   "execution_count": null,
   "metadata": {},
   "outputs": [],
   "source": [
    "###\n",
    "### Config methods\n",
    "###\n",
    "METHODS = [\n",
    "    Translate(amount = 200),\n",
    "    CutOut(amount = 200)\n",
    "]"
   ]
  },
  {
   "cell_type": "markdown",
   "metadata": {},
   "source": [
    "### 📖 Define"
   ]
  },
  {
   "cell_type": "code",
   "execution_count": null,
   "metadata": {},
   "outputs": [
    {
     "name": "stdout",
     "output_type": "stream",
     "text": [
      "\u001b[94m[INFO]\u001b[0m Loading coco/annotations/train.json...\n",
      "\u001b[92m[SUCCESS]\u001b[0m Loaded coco/annotations/train.json\n",
      "\u001b[94m[INFO]\u001b[0m Summary augmentation methods\n",
      "┌──────────┬────────┬──────────────┐\n",
      "│ Name     │ Amount │ Frame cutter │\n",
      "├──────────┼────────┼──────────────┤\n",
      "│ Original │ 5146   │ False        │\n",
      "│ Rotation │ 100    │ False        │\n",
      "│ ---      │ ---    │              │\n",
      "│ Total    │ 5246   │              │\n",
      "└──────────┴────────┴──────────────┘\n"
     ]
    }
   ],
   "source": [
    "from logic import Augmentation\n",
    "aug = Augmentation(METHODS)\n",
    "aug.flow_from_coco(directory='coco/train', json_file='coco/annotations/train.json')\n",
    "aug.summary()"
   ]
  },
  {
   "cell_type": "markdown",
   "metadata": {},
   "source": [
    "### 📸 Preview"
   ]
  },
  {
   "cell_type": "code",
   "execution_count": null,
   "metadata": {},
   "outputs": [
    {
     "name": "stdout",
     "output_type": "stream",
     "text": [
      "\u001b[94m[INFO]\u001b[0m Preview complete. Ready to generate images: False\n"
     ]
    }
   ],
   "source": [
    "from IPython.display import display, Markdown, clear_output\n",
    "from logic._utils import logger\n",
    "\n",
    "is_generate = False\n",
    "while True:\n",
    "    display(Markdown(f'### 👁️ Preview command\\n- Next image: <kbd>Enter</kbd>\\n- Exit: *Anything*\\n- Start Generation: `GETGO`'))\n",
    "    image = aug.preview()\n",
    "    display(image)\n",
    "\n",
    "    # Pause for command\n",
    "    command = input('Enter command: ')\n",
    "    if command == 'GETGO':\n",
    "        is_generate = True\n",
    "        break\n",
    "    elif command == '':\n",
    "        clear_output(wait=True)\n",
    "        continue\n",
    "    else:\n",
    "        break\n",
    "\n",
    "clear_output(wait=True)\n",
    "logger(f'Preview complete. Ready to generate images: {is_generate}')"
   ]
  },
  {
   "cell_type": "markdown",
   "metadata": {},
   "source": [
    "### ⚡ Apply"
   ]
  },
  {
   "cell_type": "code",
   "execution_count": null,
   "metadata": {},
   "outputs": [],
   "source": [
    "if is_generate:\n",
    "    aug.apply(save_directory=f'yolo/{SIGNATURE}')"
   ]
  },
  {
   "cell_type": "markdown",
   "metadata": {},
   "source": [
    "### 💀 Danger Zone"
   ]
  },
  {
   "cell_type": "code",
   "execution_count": null,
   "metadata": {},
   "outputs": [],
   "source": [
    "import shutil\n",
    "protected = True\n",
    "if not protected:\n",
    "    shutil.rmtree(f'yolo/{SIGNATURE}')\n",
    "    logger(f'Removed yolo/{SIGNATURE} directory')"
   ]
  }
 ],
 "metadata": {
  "kernelspec": {
   "display_name": "machine-learning",
   "language": "python",
   "name": "python3"
  },
  "language_info": {
   "codemirror_mode": {
    "name": "ipython",
    "version": 3
   },
   "file_extension": ".py",
   "mimetype": "text/x-python",
   "name": "python",
   "nbconvert_exporter": "python",
   "pygments_lexer": "ipython3",
   "version": "3.11.4"
  },
  "orig_nbformat": 4
 },
 "nbformat": 4,
 "nbformat_minor": 2
}
