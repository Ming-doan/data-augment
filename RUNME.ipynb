{
 "cells": [
  {
   "cell_type": "markdown",
   "metadata": {},
   "source": [
    "# Data Transformation\n",
    "> **One-click image transformations**"
   ]
  },
  {
   "cell_type": "code",
   "execution_count": 8,
   "metadata": {},
   "outputs": [],
   "source": [
    "from logic import (\n",
    "    Original,\n",
    "    Translate,\n",
    "    Brightness,\n",
    "    GaussianNoise,\n",
    "    SaltAndPepperNoise,\n",
    "    SigmoidContrast,\n",
    "    GammarContrast,\n",
    "    HistogramContrast,\n",
    "    CLAHEContrast,\n",
    "    GaussianBlur,\n",
    "    MedianBlur,\n",
    "    MotionBlur,\n",
    "    CutOut,\n",
    "    Rotation,\n",
    "    Squeeze,\n",
    "    HideAndSeek,\n",
    "    GridMask,\n",
    "    Pipe,\n",
    "    signature_checker\n",
    ")"
   ]
  },
  {
   "cell_type": "code",
   "execution_count": 9,
   "metadata": {},
   "outputs": [],
   "source": [
    "###\n",
    "### Your Signature\n",
    "###\n",
    "SIGNATURE = 'Test'\n",
    "signature_checker(SIGNATURE)"
   ]
  },
  {
   "cell_type": "code",
   "execution_count": 10,
   "metadata": {},
   "outputs": [],
   "source": [
    "###\n",
    "### Config methods\n",
    "###\n",
    "METHODS = [\n",
    "    Original(frac=0.5),\n",
    "    Rotation(boundary=20),\n",
    "]"
   ]
  },
  {
   "cell_type": "markdown",
   "metadata": {},
   "source": [
    "### 📖 Define"
   ]
  },
  {
   "cell_type": "code",
   "execution_count": 11,
   "metadata": {},
   "outputs": [
    {
     "name": "stdout",
     "output_type": "stream",
     "text": [
      "\u001b[94m[INFO]\u001b[0m Loading coco/annotations/train.json...\n",
      "\u001b[92m[SUCCESS]\u001b[0m Loaded coco/annotations/train.json\n",
      "\u001b[94m[INFO]\u001b[0m Summary augmentation methods\n",
      "┌──────────┬────────┬──────────────┐\n",
      "│ Name     │ Amount │ Frame cutter │\n",
      "├──────────┼────────┼──────────────┤\n",
      "│ Original │ 5146   │ False        │\n",
      "│ Rotation │ 100    │ False        │\n",
      "│ ---      │ ---    │              │\n",
      "│ Total    │ 5246   │              │\n",
      "└──────────┴────────┴──────────────┘\n"
     ]
    }
   ],
   "source": [
    "from logic import Augmentation\n",
    "aug = Augmentation(METHODS)\n",
    "aug.flow_from_coco(directory='coco/train', json_file='coco/annotations/train.json')\n",
    "aug.summary()"
   ]
  },
  {
   "cell_type": "markdown",
   "metadata": {},
   "source": [
    "### 📸 Preview"
   ]
  },
  {
   "cell_type": "code",
   "execution_count": 12,
   "metadata": {},
   "outputs": [
    {
     "name": "stdout",
     "output_type": "stream",
     "text": [
      "\u001b[94m[INFO]\u001b[0m Preview complete. Ready to generate images: False\n"
     ]
    }
   ],
   "source": [
    "from IPython.display import display, Markdown, clear_output\n",
    "from logic._utils import logger\n",
    "\n",
    "is_generate = False\n",
    "while True:\n",
    "    display(Markdown(f'### 👁️ Preview command\\n- Next image: <kbd>Enter</kbd>\\n- Exit: *Anything*\\n- Start Generation: `GETGO`'))\n",
    "    image = aug.preview()\n",
    "    display(image)\n",
    "\n",
    "    # Pause for command\n",
    "    command = input('Enter command: ')\n",
    "    if command == 'GETGO':\n",
    "        is_generate = True\n",
    "        break\n",
    "    elif command == '':\n",
    "        clear_output(wait=True)\n",
    "        continue\n",
    "    else:\n",
    "        break\n",
    "\n",
    "clear_output(wait=True)\n",
    "logger(f'Preview complete. Ready to generate images: {is_generate}')"
   ]
  },
  {
   "cell_type": "markdown",
   "metadata": {},
   "source": [
    "### ⚡ Apply"
   ]
  },
  {
   "cell_type": "code",
   "execution_count": 13,
   "metadata": {},
   "outputs": [],
   "source": [
    "if is_generate:\n",
    "    aug.apply(save_directory=f'yolo/{SIGNATURE}')"
   ]
  },
  {
   "cell_type": "markdown",
   "metadata": {},
   "source": [
    "### 💀 Danger Zone"
   ]
  },
  {
   "cell_type": "code",
   "execution_count": 14,
   "metadata": {},
   "outputs": [],
   "source": [
    "import shutil\n",
    "protected = True\n",
    "if not protected:\n",
    "    shutil.rmtree(f'yolo/{SIGNATURE}')\n",
    "    logger(f'Removed yolo/{SIGNATURE} directory')"
   ]
  }
 ],
 "metadata": {
  "kernelspec": {
   "display_name": "machine-learning",
   "language": "python",
   "name": "python3"
  },
  "language_info": {
   "codemirror_mode": {
    "name": "ipython",
    "version": 3
   },
   "file_extension": ".py",
   "mimetype": "text/x-python",
   "name": "python",
   "nbconvert_exporter": "python",
   "pygments_lexer": "ipython3",
   "version": "3.11.4"
  },
  "orig_nbformat": 4
 },
 "nbformat": 4,
 "nbformat_minor": 2
}
