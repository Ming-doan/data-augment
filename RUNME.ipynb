{
 "cells": [
  {
   "cell_type": "markdown",
   "metadata": {},
   "source": [
    "# Data Transformation\n",
    "> **One-click image transformations**"
   ]
  },
  {
   "cell_type": "code",
   "execution_count": null,
   "metadata": {},
   "outputs": [],
   "source": [
    "###\n",
    "### Your Signature\n",
    "###\n",
    "SIGNATURE = 'PUT YOUR SIGNATURE HERE'"
   ]
  },
  {
   "cell_type": "code",
   "execution_count": null,
   "metadata": {},
   "outputs": [],
   "source": [
    "###\n",
    "### Config methods\n",
    "###\n",
    "from logic import Brightness, Original, Squeeze, Pipe\n",
    "METHODS = [\n",
    "    Original(frac=0.5),\n",
    "    Squeeze(),\n",
    "    Pipe([Brightness(), Squeeze()], frac=0.7)\n",
    "]"
   ]
  },
  {
   "cell_type": "markdown",
   "metadata": {},
   "source": [
    "### 📖 Define"
   ]
  },
  {
   "cell_type": "code",
   "execution_count": null,
   "metadata": {},
   "outputs": [],
   "source": [
    "from logic import Augmentation\n",
    "aug = Augmentation(METHODS)\n",
    "aug.flow_from_coco(directory='coco/train', json_file='coco/annotations/train.json')\n",
    "aug.summary()"
   ]
  },
  {
   "cell_type": "markdown",
   "metadata": {},
   "source": [
    "### 📸 Preview"
   ]
  },
  {
   "cell_type": "code",
   "execution_count": null,
   "metadata": {},
   "outputs": [],
   "source": [
    "from IPython.display import display, Markdown, clear_output\n",
    "from logic._utils import logger\n",
    "\n",
    "is_generate = False\n",
    "while True:\n",
    "    display(Markdown(f'### 👁️ Preview command\\n- Next image: <kbd>Enter</kbd>\\n- Exit: *Anything*\\n- Start Generation: `GETGO`'))\n",
    "    image = aug.preview()\n",
    "    display(image)\n",
    "\n",
    "    # Pause for command\n",
    "    command = input('Enter command: ')\n",
    "    if command == 'GETGO':\n",
    "        is_generate = True\n",
    "        break\n",
    "    elif command == '':\n",
    "        clear_output(wait=True)\n",
    "        continue\n",
    "    else:\n",
    "        break\n",
    "\n",
    "clear_output(wait=True)\n",
    "logger(f'Preview complete. Ready to generate images: {is_generate}')"
   ]
  },
  {
   "cell_type": "markdown",
   "metadata": {},
   "source": [
    "### ⚡ Apply"
   ]
  },
  {
   "cell_type": "code",
   "execution_count": null,
   "metadata": {},
   "outputs": [],
   "source": [
    "if is_generate:\n",
    "    aug.apply(save_directory=f'yolo/{SIGNATURE}', overwrite=False)"
   ]
  },
  {
   "cell_type": "markdown",
   "metadata": {},
   "source": [
    "### 💀 Danger Zone"
   ]
  },
  {
   "cell_type": "code",
   "execution_count": null,
   "metadata": {},
   "outputs": [],
   "source": [
    "import shutil\n",
    "protected = True\n",
    "if not protected:\n",
    "    shutil.rmtree(f'yolo/{SIGNATURE}')\n",
    "    logger(f'Removed yolo/{SIGNATURE} directory')"
   ]
  }
 ],
 "metadata": {
  "kernelspec": {
   "display_name": "machine-learning",
   "language": "python",
   "name": "python3"
  },
  "language_info": {
   "codemirror_mode": {
    "name": "ipython",
    "version": 3
   },
   "file_extension": ".py",
   "mimetype": "text/x-python",
   "name": "python",
   "nbconvert_exporter": "python",
   "pygments_lexer": "ipython3",
   "version": "3.11.4"
  },
  "orig_nbformat": 4
 },
 "nbformat": 4,
 "nbformat_minor": 2
}
